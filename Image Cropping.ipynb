{
 "cells": [
  {
   "cell_type": "code",
   "execution_count": 1,
   "metadata": {},
   "outputs": [],
   "source": [
    "import cv2\n",
    "import numpy as np\n",
    "import matplotlib.pyplot as plt"
   ]
  },
  {
   "cell_type": "code",
   "execution_count": 2,
   "metadata": {},
   "outputs": [
    {
     "data": {
      "text/plain": [
       "(283, 226)"
      ]
     },
     "execution_count": 2,
     "metadata": {},
     "output_type": "execute_result"
    }
   ],
   "source": [
    "img = cv2.imread('lena.jpg')\n",
    "img.shape[0:2]\n"
   ]
  },
  {
   "cell_type": "code",
   "execution_count": 5,
   "metadata": {},
   "outputs": [],
   "source": [
    "height , width =img.shape[0:2]"
   ]
  },
  {
   "cell_type": "code",
   "execution_count": 6,
   "metadata": {},
   "outputs": [],
   "source": [
    "# starting point\n",
    "x1,y1 = int(height*.25) ,int(width*.25)\n",
    "#end point\n",
    "x2,y2 = int(height*.75),int(width*.75)"
   ]
  },
  {
   "cell_type": "code",
   "execution_count": 7,
   "metadata": {},
   "outputs": [],
   "source": [
    "crop = img[x1:x2,y1:y2]"
   ]
  },
  {
   "cell_type": "code",
   "execution_count": 8,
   "metadata": {},
   "outputs": [
    {
     "data": {
      "text/plain": [
       "13"
      ]
     },
     "execution_count": 8,
     "metadata": {},
     "output_type": "execute_result"
    }
   ],
   "source": [
    "cv2.imshow('Original',img)\n",
    "cv2.waitKey(0)\n"
   ]
  },
  {
   "cell_type": "code",
   "execution_count": 9,
   "metadata": {},
   "outputs": [],
   "source": [
    "cv2.imshow('Cropped',crop)\n",
    "cv2.waitKey(0)\n",
    "cv2.destroyAllWindows()"
   ]
  },
  {
   "cell_type": "code",
   "execution_count": null,
   "metadata": {},
   "outputs": [],
   "source": []
  },
  {
   "cell_type": "markdown",
   "metadata": {},
   "source": [
    "## Creating Custom Image"
   ]
  },
  {
   "cell_type": "code",
   "execution_count": 18,
   "metadata": {},
   "outputs": [],
   "source": [
    "img2 = np.zeros(shape =(283,226,3))\n",
    "WindowName='Drawing'\n",
    "cv2.namedWindow(WindowName)\n",
    "\n",
    "def draw_circle(event, x,y,flags,param):\n",
    "    if event ==cv2.EVENT_LBUTTONDOWN:\n",
    "        cv2.circle(img2,center=(x,y),radius=30,color=(150,50,115),thickness=-1)\n",
    "        \n",
    "    if event ==cv2.EVENT_RBUTTONDOWN:\n",
    "        cv2.circle(img2,center=(x,y),radius=20,color=(0,255,0),thickness=-1)\n",
    "        \n",
    "    if event ==cv2.EVENT_LBUTTONDBLCLK:\n",
    "        cv2.circle(img2,center=(x,y),radius=10,color=(255,0,0),thickness=-1)    \n",
    "\n",
    "\n",
    "cv2.setMouseCallback(WindowName, draw_circle)\n",
    "\n",
    "while True:\n",
    "    cv2.imshow(WindowName,img2)\n",
    "    if cv2.waitKey(10) == ord('c'):\n",
    "        break\n",
    "        \n",
    "cv2.destroyAllWindows()"
   ]
  },
  {
   "cell_type": "code",
   "execution_count": 2,
   "metadata": {},
   "outputs": [
    {
     "name": "stdout",
     "output_type": "stream",
     "text": [
      "[(61, 26), (178, 184)]\n"
     ]
    }
   ],
   "source": [
    "ref_point =[]\n",
    "crop=False\n",
    "def shape_selection(event,x,y,flags,param):\n",
    "    global ref_point,crop\n",
    "    \n",
    "    if event ==cv2.EVENT_LBUTTONDOWN:\n",
    "        ref_point = [(x,y)]\n",
    "    elif event ==cv2.EVENT_LBUTTONUP:\n",
    "        ref_point.append((x,y))\n",
    "        print(ref_point)\n",
    "        cv2.rectangle(image,ref_point[0],ref_point[1],(150,18,115),2)\n",
    "        cv2.imshow('image',image)\n",
    "        \n",
    "    \n",
    "\n",
    "image= cv2.imread('lena.jpg')\n",
    "clone = image.copy()\n",
    "cv2.namedWindow('image')\n",
    "cv2.setMouseCallback('image', shape_selection)\n",
    "\n",
    "while True:\n",
    "    \n",
    "    cv2.imshow('image',image)\n",
    "    k=cv2.waitKey(0)\n",
    "    if k==ord('r'):\n",
    "        image = clone.copy()\n",
    "        \n",
    "    if k==ord('c'):\n",
    "        break\n",
    "\n",
    "\n",
    "if len(ref_point)==2:\n",
    "    crop_img =clone[ref_point[0][1]:ref_point[1][1],ref_point[0][0]:ref_point[1][0]]\n",
    "    cv2.imshow('Cropped_image',crop_img)\n",
    "    cv2.imwrite('Output.jpg',crop_img)\n",
    "    cv2.waitKey(0)\n",
    "\n",
    "\n",
    "cv2.destroyAllWindows()"
   ]
  },
  {
   "cell_type": "code",
   "execution_count": 12,
   "metadata": {},
   "outputs": [],
   "source": []
  },
  {
   "cell_type": "code",
   "execution_count": null,
   "metadata": {},
   "outputs": [],
   "source": []
  },
  {
   "cell_type": "code",
   "execution_count": null,
   "metadata": {},
   "outputs": [],
   "source": []
  }
 ],
 "metadata": {
  "kernelspec": {
   "display_name": "Python 3",
   "language": "python",
   "name": "python3"
  },
  "language_info": {
   "codemirror_mode": {
    "name": "ipython",
    "version": 3
   },
   "file_extension": ".py",
   "mimetype": "text/x-python",
   "name": "python",
   "nbconvert_exporter": "python",
   "pygments_lexer": "ipython3",
   "version": "3.7.3"
  }
 },
 "nbformat": 4,
 "nbformat_minor": 2
}
